{
 "cells": [
  {
   "cell_type": "markdown",
   "metadata": {},
   "source": [
    "# Text Summarization using Tf-Idf"
   ]
  },
  {
   "cell_type": "code",
   "execution_count": 5,
   "metadata": {},
   "outputs": [],
   "source": [
    "import pandas as pd\n",
    "import nltk\n",
    "import re\n",
    "from nltk import sent_tokenize,word_tokenize,PorterStemmer\n",
    "from nltk.corpus import stopwords\n",
    "stopWords = set(stopwords.words(\"english\"))\n",
    "ps = PorterStemmer()\n",
    "import math"
   ]
  },
  {
   "cell_type": "code",
   "execution_count": 38,
   "metadata": {},
   "outputs": [],
   "source": [
    "text=open(\"E:\\DATA Science\\DWDM_prac//text.txt\",\"r\")"
   ]
  },
  {
   "cell_type": "code",
   "execution_count": 39,
   "metadata": {},
   "outputs": [],
   "source": [
    "text1=str(text.read())"
   ]
  },
  {
   "cell_type": "code",
   "execution_count": 31,
   "metadata": {},
   "outputs": [],
   "source": [
    "sent=\"samir likes to play cricket everyday because he like cricket so much . ajay is going to his home to play cricket.\";"
   ]
  },
  {
   "cell_type": "code",
   "execution_count": 14,
   "metadata": {},
   "outputs": [],
   "source": [
    "def frequency_table(text):\n",
    "    words=word_tokenize(text)\n",
    "    word_freq=dict()\n",
    "    for x in words:\n",
    "        x=ps.stem(x.lower())\n",
    "        if (x not in stopWords) and (len(x)>2):\n",
    "            if x not in word_freq.keys():\n",
    "                word_freq[x]=1\n",
    "            else:\n",
    "                word_freq[x]+=1\n",
    "    return word_freq"
   ]
  },
  {
   "cell_type": "code",
   "execution_count": 32,
   "metadata": {},
   "outputs": [
    {
     "data": {
      "text/plain": [
       "{'samir': 1,\n",
       " 'like': 2,\n",
       " 'play': 2,\n",
       " 'cricket': 3,\n",
       " 'everyday': 1,\n",
       " 'becaus': 1,\n",
       " 'much': 1,\n",
       " 'ajay': 1,\n",
       " 'home': 1}"
      ]
     },
     "execution_count": 32,
     "metadata": {},
     "output_type": "execute_result"
    }
   ],
   "source": [
    "frequency_table(sent)"
   ]
  },
  {
   "cell_type": "code",
   "execution_count": 33,
   "metadata": {},
   "outputs": [],
   "source": [
    "def frequency_matrix(sentences):\n",
    "    frequency_matrix=dict()\n",
    "    for sent in sent_tokenize(sentences):\n",
    "        frequency_matrix[sent[:15]]=frequency_table(sent)\n",
    "    return frequency_matrix"
   ]
  },
  {
   "cell_type": "code",
   "execution_count": 34,
   "metadata": {},
   "outputs": [
    {
     "data": {
      "text/plain": [
       "{'samir likes to ': {'samir': 1,\n",
       "  'like': 2,\n",
       "  'play': 1,\n",
       "  'cricket': 2,\n",
       "  'everyday': 1,\n",
       "  'becaus': 1,\n",
       "  'much': 1},\n",
       " 'ajay is going t': {'ajay': 1, 'home': 1, 'play': 1, 'cricket': 1}}"
      ]
     },
     "execution_count": 34,
     "metadata": {},
     "output_type": "execute_result"
    }
   ],
   "source": [
    "freq_matrix=frequency_matrix(sent)\n",
    "freq_matrix"
   ]
  },
  {
   "cell_type": "code",
   "execution_count": 35,
   "metadata": {},
   "outputs": [],
   "source": [
    "def tf_matrix(freq_matrix):\n",
    "    tf_matrix={}\n",
    "    for sent,freq_table in freq_matrix.items():\n",
    "        tf_table={}\n",
    "        ft_len=len(freq_table)\n",
    "        for Dict in freq_table.keys():\n",
    "            tf_table[Dict]=round(freq_table[Dict]/ft_len,2)\n",
    "        tf_matrix[sent]=tf_table\n",
    "    return tf_matrix"
   ]
  },
  {
   "cell_type": "code",
   "execution_count": 36,
   "metadata": {},
   "outputs": [
    {
     "data": {
      "text/plain": [
       "{'samir likes to ': {'samir': 0.14,\n",
       "  'like': 0.29,\n",
       "  'play': 0.14,\n",
       "  'cricket': 0.29,\n",
       "  'everyday': 0.14,\n",
       "  'becaus': 0.14,\n",
       "  'much': 0.14},\n",
       " 'ajay is going t': {'ajay': 0.25,\n",
       "  'home': 0.25,\n",
       "  'play': 0.25,\n",
       "  'cricket': 0.25}}"
      ]
     },
     "execution_count": 36,
     "metadata": {},
     "output_type": "execute_result"
    }
   ],
   "source": [
    "tf_matrix1=tf_matrix(freq_matrix)\n",
    "tf_matrix1"
   ]
  },
  {
   "cell_type": "code",
   "execution_count": 37,
   "metadata": {},
   "outputs": [],
   "source": [
    "def doc_frequency(freq_matrix):\n",
    "    doc_table={}\n",
    "    for sent,tf_table in freq_matrix.items():\n",
    "        for word in tf_table.keys():\n",
    "            if word not in doc_table.keys():\n",
    "                doc_table[word]=1\n",
    "            else:\n",
    "                doc_table[word]+=1\n",
    "    return doc_table"
   ]
  },
  {
   "cell_type": "code",
   "execution_count": 38,
   "metadata": {},
   "outputs": [
    {
     "data": {
      "text/plain": [
       "{'samir': 1,\n",
       " 'like': 1,\n",
       " 'play': 2,\n",
       " 'cricket': 2,\n",
       " 'everyday': 1,\n",
       " 'becaus': 1,\n",
       " 'much': 1,\n",
       " 'ajay': 1,\n",
       " 'home': 1}"
      ]
     },
     "execution_count": 38,
     "metadata": {},
     "output_type": "execute_result"
    }
   ],
   "source": [
    "doc_matrix=doc_frequency(freq_matrix)\n",
    "doc_matrix    "
   ]
  },
  {
   "cell_type": "code",
   "execution_count": 39,
   "metadata": {},
   "outputs": [],
   "source": [
    "def idf_matrix(freq_matrix,doc_per_word):\n",
    "    total_doc=len(freq_matrix.keys())\n",
    "    tf_matrix={}\n",
    "    for sent,tf_table in freq_matrix.items():\n",
    "        freq_table={}\n",
    "        for word in tf_table.keys():\n",
    "            freq_table[word]=round(math.log10(total_doc/doc_per_word[word]),2)\n",
    "        tf_matrix[sent]=freq_table\n",
    "    return tf_matrix"
   ]
  },
  {
   "cell_type": "code",
   "execution_count": 40,
   "metadata": {},
   "outputs": [
    {
     "data": {
      "text/plain": [
       "{'samir likes to ': {'samir': 0.3,\n",
       "  'like': 0.3,\n",
       "  'play': 0.0,\n",
       "  'cricket': 0.0,\n",
       "  'everyday': 0.3,\n",
       "  'becaus': 0.3,\n",
       "  'much': 0.3},\n",
       " 'ajay is going t': {'ajay': 0.3, 'home': 0.3, 'play': 0.0, 'cricket': 0.0}}"
      ]
     },
     "execution_count": 40,
     "metadata": {},
     "output_type": "execute_result"
    }
   ],
   "source": [
    "idf1_matrix=idf_matrix(freq_matrix,doc_matrix)\n",
    "idf1_matrix"
   ]
  },
  {
   "cell_type": "code",
   "execution_count": 41,
   "metadata": {},
   "outputs": [],
   "source": [
    "def tf_idf_matrix(tf_matrix,idf_matrix):\n",
    "    tf_idf_matrix={}\n",
    "    for (sent1,ft_table1),(sent2,ft_table2) in zip(tf_matrix.items(),idf_matrix.items()):\n",
    "        freq_table={}\n",
    "        for (word1,value1),(word2,value2) in zip(ft_table1.items(),ft_table2.items()):\n",
    "                freq_table[word1]=round(value1*value2,2)\n",
    "        tf_idf_matrix[sent1]=freq_table\n",
    "    return tf_idf_matrix"
   ]
  },
  {
   "cell_type": "code",
   "execution_count": 42,
   "metadata": {},
   "outputs": [
    {
     "data": {
      "text/plain": [
       "{'samir likes to ': {'samir': 0.04,\n",
       "  'like': 0.09,\n",
       "  'play': 0.0,\n",
       "  'cricket': 0.0,\n",
       "  'everyday': 0.04,\n",
       "  'becaus': 0.04,\n",
       "  'much': 0.04},\n",
       " 'ajay is going t': {'ajay': 0.07, 'home': 0.07, 'play': 0.0, 'cricket': 0.0}}"
      ]
     },
     "execution_count": 42,
     "metadata": {},
     "output_type": "execute_result"
    }
   ],
   "source": [
    "tf_idf_matrix1=tf_idf_matrix(tf_matrix1,idf1_matrix)\n",
    "tf_idf_matrix1"
   ]
  },
  {
   "cell_type": "code",
   "execution_count": 29,
   "metadata": {},
   "outputs": [],
   "source": [
    "def score_sentence(tf_idf_matrix):\n",
    "    sent_score={}\n",
    "    for sent,ft_table in tf_idf_matrix.items():\n",
    "        for word,value in ft_table.items():\n",
    "            if sent not in sent_score.keys():\n",
    "                sent_score[sent]=value\n",
    "            else:\n",
    "                sent_score[sent]+=value\n",
    "                \n",
    "    return sent_score"
   ]
  },
  {
   "cell_type": "code",
   "execution_count": null,
   "metadata": {},
   "outputs": [],
   "source": [
    "sent_score=score_sentence(tf_idf_matrix1)\n",
    "sent_score"
   ]
  },
  {
   "cell_type": "code",
   "execution_count": 48,
   "metadata": {},
   "outputs": [],
   "source": [
    "def average_score(sent_score):\n",
    "    sum_sent=0\n",
    "    for value in sent_score.values():\n",
    "        sum_sent+=value\n",
    "    avg_score=round(sum_sent/len(sent_score),2)\n",
    "    return avg_score"
   ]
  },
  {
   "cell_type": "code",
   "execution_count": 49,
   "metadata": {},
   "outputs": [],
   "source": [
    "def get_summary(sentences,sentence_score,threshold):\n",
    "#     summary=\"\"\n",
    "    for sent in sentences:\n",
    "        if (sent[:15] in sentence_score) and sentence_score[sent[:15]]>=threshold:\n",
    "                summary+=\" \"+sent\n",
    "    return summary"
   ]
  },
  {
   "cell_type": "code",
   "execution_count": 78,
   "metadata": {},
   "outputs": [],
   "source": [
    "def lets_summarize(text):\n",
    "#     summary=\"\"\n",
    "    sentences=sent_tokenize(text)\n",
    "    \n",
    "    freq_matrix=frequency_matrix(text)\n",
    "    \n",
    "    tf_matrix1=tf_matrix(freq_matrix)\n",
    "    \n",
    "    doc_matrix=doc_frequency(freq_matrix)\n",
    "    \n",
    "    idf1_matrix=idf_matrix(freq_matrix,doc_matrix)\n",
    "    \n",
    "    tf_idf_matrix1=tf_idf_matrix(tf_matrix1,idf1_matrix)\n",
    "    \n",
    "    sent_score=score_sentence(tf_idf_matrix1)\n",
    "    \n",
    "    threshold=average_score(sent_score)\n",
    "    \n",
    "    summary=get_summary(sesentences,sent_score,1.15*threshold)\n",
    "    return summary"
   ]
  },
  {
   "cell_type": "code",
   "execution_count": 80,
   "metadata": {},
   "outputs": [
    {
     "data": {
      "text/plain": [
       "' Those Who Are Resilient Stay In The Game Longer\\n“On the mountains of truth you can never climb in vain: either you will reach a point higher up today, or you will be training your powers so that you will be able to climb higher tomorrow.”?—?Friedrich Nietzsche\\nChallenges and setbacks are not meant to defeat you, but promote you. To a person with a Fixed Mindset failure is a blow to their self-esteem, yet to a person with a Growth Mindset, it’s an opportunity to improve and find new ways to overcome their obstacles. Neither. If you settle for less, you will receive less than you deserve and convince yourself you are justified to receive it. It’s a fact, if you don’t know what you want you’ll get what life hands you and it may not be in your best interest, affirms author Larry Weidel: “Winners know that if you don’t figure out what you want, you’ll get whatever life hands you.” The key is to develop a powerful vision of what you want and hold that image in your mind.'"
      ]
     },
     "execution_count": 80,
     "metadata": {},
     "output_type": "execute_result"
    }
   ],
   "source": [
    "lets_summarize(text1)"
   ]
  },
  {
   "cell_type": "code",
   "execution_count": null,
   "metadata": {},
   "outputs": [],
   "source": []
  }
 ],
 "metadata": {
  "kernelspec": {
   "display_name": "Python 3",
   "language": "python",
   "name": "python3"
  },
  "language_info": {
   "codemirror_mode": {
    "name": "ipython",
    "version": 3
   },
   "file_extension": ".py",
   "mimetype": "text/x-python",
   "name": "python",
   "nbconvert_exporter": "python",
   "pygments_lexer": "ipython3",
   "version": "3.7.4"
  }
 },
 "nbformat": 4,
 "nbformat_minor": 2
}
